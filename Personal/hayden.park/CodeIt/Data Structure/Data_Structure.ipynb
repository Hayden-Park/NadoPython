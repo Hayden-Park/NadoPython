{
 "cells": [
  {
   "attachments": {},
   "cell_type": "markdown",
   "metadata": {},
   "source": [
    "자료 구조 : 데이터의 효율적인 접근 및 조작을 가능하게 해주는 저장 및 관리 방식\n",
    "- 스토리지 : 데이터가 영구적으로 저장되는 곳\n",
    "    . 데이터를 저장하고 받아오는 데 오래 걸린다 (창고)\n",
    "- 메모리 : 데이터가 임시로 저장되는 곳\n",
    "    . 데이터를 저장하고 받아오는 데 빠르다 (책상 서랍)\n",
    "- RAM : 임의 접근 메모리\n",
    "    . 임의 접근 : 저장 위치를 알면 접근할 때 항상 일정한 시간이 걸림\n",
    "    . 메모리에 저장한 데이터 접근 시간 복잡도 : O(1)\n",
    "    . 순차 접근 : 저장된 위치까지 가는데 한 단계씩 거쳐야 됨\n",
    "- 레퍼런스 : 데이터에 접근할 수 있게 해주는 값, '주소'보다 조금 더 포괄적인 표현\n",
    "    . x=95 : x 는 95를 가리킨다"
   ]
  },
  {
   "cell_type": "code",
   "execution_count": null,
   "metadata": {},
   "outputs": [],
   "source": []
  }
 ],
 "metadata": {
  "language_info": {
   "name": "python"
  },
  "orig_nbformat": 4
 },
 "nbformat": 4,
 "nbformat_minor": 2
}
