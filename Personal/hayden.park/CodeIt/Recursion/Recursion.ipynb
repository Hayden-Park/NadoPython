{
 "cells": [
  {
   "cell_type": "code",
   "execution_count": null,
   "metadata": {},
   "outputs": [],
   "source": [
    "# 재귀함수\n",
    "def countdown(n):\n",
    "    if n>0:\n",
    "        print(n)\n",
    "        countdown(n-1)\n",
    "\n",
    "countdown(4)"
   ]
  },
  {
   "attachments": {},
   "cell_type": "markdown",
   "metadata": {},
   "source": [
    "팩토리얼 : 부분문제로 나누어 접근\n",
    "5! = 4! x 5 = 3!x4x5 = ...\n",
    "n=0 : n!=1 (base case)\n",
    "n=>0 : n! = (n-1)! x n (recursive case)\n",
    "base case 와 recursive case 모두 생각해내야 함"
   ]
  },
  {
   "cell_type": "code",
   "execution_count": null,
   "metadata": {},
   "outputs": [],
   "source": [
    "def factorial(n):\n",
    "    if n==0:\n",
    "        return 1\n",
    "    return factorial(n - 1)*n\n",
    "\n",
    "print(factorial(4))"
   ]
  },
  {
   "attachments": {},
   "cell_type": "markdown",
   "metadata": {},
   "source": [
    "반복문 vs 재귀함수\n",
    "call stack overflow 방지를 위해 파이썬은 1000개까지 지원\n",
    "call stack 이 너무 많이 쌓일 것 같으면 반복문 사용"
   ]
  },
  {
   "cell_type": "code",
   "execution_count": null,
   "metadata": {},
   "outputs": [],
   "source": [
    "# Quiz 1) 피보나치 수열\n",
    "# n번째 피보나치 수를 리턴\n",
    "def fib(n):\n",
    "    # 여기에 코드를 작성하세요\n",
    "    if n <= 2:\n",
    "        return 1\n",
    "    return fib(n-2) + fib(n-1)\n",
    "        \n",
    "\n",
    "# 테스트 코드: fib(1)부터 fib(10)까지 출력\n",
    "for i in range(1, 11):\n",
    "    print(fib(i))"
   ]
  },
  {
   "cell_type": "code",
   "execution_count": null,
   "metadata": {},
   "outputs": [],
   "source": [
    "# Quiz 2) n번째 삼각수\n",
    "# 1부터 n까지의 합을 리턴\n",
    "def triangle_number(n):\n",
    "    # 여기에 코드를 작성하세요\n",
    "    if n == 1:\n",
    "        return 1\n",
    "    return triangle_number(n-1) + n\n",
    "\n",
    "# 테스트 코드: triangle_number(1)부터 triangle_number(10)까지 출력\n",
    "for i in range(1, 11):\n",
    "    print(triangle_number(i))"
   ]
  },
  {
   "cell_type": "code",
   "execution_count": null,
   "metadata": {},
   "outputs": [],
   "source": [
    "# Quiz 3) n의 각 자릿수의 합을 리턴\n",
    "def sum_digits(n):\n",
    "    # 여기에 코드를 작성하세요\n",
    "    if n < 10:\n",
    "        return n\n",
    "    return sum_digits(n//10) + n%10\n",
    "# 테스트 코드\n",
    "print(sum_digits(22541))\n",
    "print(sum_digits(92130))\n",
    "print(sum_digits(12634))\n",
    "print(sum_digits(704))\n",
    "print(sum_digits(3755))"
   ]
  },
  {
   "cell_type": "code",
   "execution_count": null,
   "metadata": {},
   "outputs": [],
   "source": [
    "# Quiz 4) 파라미터 some_list를 거꾸로 뒤집는 함수\n",
    "def flip(some_list):\n",
    "    # 여기에 코드를 작성하세요\n",
    "    if len(some_list)<=1:\n",
    "        return some_list\n",
    "    return some_list[-1:]+flip(some_list[:-1])\n",
    "# 테스트 코드\n",
    "some_list = [1, 2, 3, 4, 5, 6, 7, 8, 9]\n",
    "some_list = flip(some_list)\n",
    "print(some_list)\n"
   ]
  },
  {
   "cell_type": "code",
   "execution_count": null,
   "metadata": {},
   "outputs": [],
   "source": [
    "# Quiz 5) 하노이의 탑\n",
    "def move_disk(disk_num, start_peg, end_peg):\n",
    "    print(\"%d번 원판을 %d번 기둥에서 %d번 기둥으로 이동\" % (disk_num, start_peg, end_peg))\n",
    "\n",
    "def hanoi(num_disks, start_peg, end_peg):\n",
    "    # 여기에 코드를 작성하세요\n",
    "    if num_disks == 0:\n",
    "        return\n",
    "    # elif num_disks == 1:\n",
    "    #     return move_disk(num_disks,start_peg,end_peg)\n",
    "    else:\n",
    "        other_peg = 6 - (start_peg + end_peg)\n",
    "        hanoi(num_disks-1,start_peg,other_peg)\n",
    "        move_disk(num_disks,start_peg,end_peg)\n",
    "        hanoi(num_disks-1,other_peg,end_peg)\n",
    "\n",
    "# 테스트 코드 (포함하여 제출해주세요)\n",
    "hanoi(3, 1, 3)"
   ]
  }
 ],
 "metadata": {
  "kernelspec": {
   "display_name": "Python 3",
   "language": "python",
   "name": "python3"
  },
  "language_info": {
   "codemirror_mode": {
    "name": "ipython",
    "version": 3
   },
   "file_extension": ".py",
   "mimetype": "text/x-python",
   "name": "python",
   "nbconvert_exporter": "python",
   "pygments_lexer": "ipython3",
   "version": "3.9.5"
  },
  "orig_nbformat": 4,
  "vscode": {
   "interpreter": {
    "hash": "9e99d8c8b602f870767ae4a80c156bd21a94de39c4f81fdcb8e6036dd632cd64"
   }
  }
 },
 "nbformat": 4,
 "nbformat_minor": 2
}
