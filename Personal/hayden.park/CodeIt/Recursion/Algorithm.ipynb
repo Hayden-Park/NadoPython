{
 "cells": [
  {
   "cell_type": "code",
   "execution_count": null,
   "metadata": {},
   "outputs": [],
   "source": [
    "# Brute Force : 가능한 모든 경우에 대해 시도하는 방법\n",
    "# 장점 : 직관적이고 명확 / 답을 확실하게 찾을 수 있음\n",
    "\n",
    "# Quiz 1) 카드 뭉치 최대 조합\n",
    "# 기대결과 : 24 / 32 / 28\n",
    "\n",
    "def max_product(left_cards, right_cards):\n",
    "    # 여기에 코드를 작성하세요\n",
    "    max_value = 0\n",
    "    for left in left_cards:\n",
    "        for right in right_cards:\n",
    "            max_value = max(max_value, left*right)\n",
    "    return max_value\n",
    "# 테스트 코드\n",
    "print(max_product([1, 6, 5], [4, 2, 3]))\n",
    "print(max_product([1, -9, 3, 4], [2, 8, 3, 1]))\n",
    "print(max_product([-1, -7, 3], [-4, 3, 6]))"
   ]
  },
  {
   "cell_type": "code",
   "execution_count": null,
   "metadata": {},
   "outputs": [],
   "source": [
    "# Quiz 2) 가까운 매장 찾기\n",
    "\n",
    "# 제곱근 사용을 위한 sqrt 함수\n",
    "from math import sqrt\n",
    "\n",
    "# 두 매장의 직선 거리를 계산해 주는 함수\n",
    "def distance(store1, store2):\n",
    "    return sqrt((store1[0] - store2[0]) ** 2 + (store1[1] - store2[1]) ** 2)\n",
    "\n",
    "# 가장 가까운 두 매장을 찾아주는 함수\n",
    "def closest_pair(coordinates):\n",
    "    # 여기에 코드를 작성하세요\n",
    "    min_dis = distance(coordinates[0],coordinates[1])\n",
    "    \n",
    "    for first in coordinates:\n",
    "        temp_coor = coordinates\n",
    "        temp_coor.remove(first)\n",
    "        for second in temp_coor:\n",
    "            if distance(first,second) < min_dis:\n",
    "                min_dis = distance(first,second)\n",
    "                item1 = first\n",
    "                item2 = second\n",
    "\n",
    "    return [item1, item2]\n",
    "\n",
    "# 테스트 코드\n",
    "test_coordinates = [(2, 3), (12, 30), (40, 50), (5, 1), (12, 10), (3, 4)]\n",
    "print(closest_pair(test_coordinates))"
   ]
  },
  {
   "cell_type": "code",
   "execution_count": null,
   "metadata": {},
   "outputs": [],
   "source": [
    "# Quiz 3) 강남역 폭우\n",
    "# 건물과 건물 사이에 빗물 저장량 구하기\n",
    "\n",
    "# 내 코드\n",
    "def trapping_rain(buildings):\n",
    "    # 여기에 코드를 작성하세요\n",
    "    sum = 0\n",
    "    height = 0\n",
    "    max_val = 0\n",
    "    \n",
    "    for i in range(len(buildings)-1):\n",
    "        max_val = max(buildings[i:])\n",
    "        \n",
    "        if buildings[i] >= height:\n",
    "            height = buildings[i]\n",
    "        elif buildings[i] <= max_val:\n",
    "            height = min(height,max_val)\n",
    "        sum = sum + (height - buildings[i])\n",
    "        \n",
    "    return sum\n",
    "\n",
    "#해설코드\n",
    "\n",
    "# def trapping_rain(buildings):\n",
    "#     # 총 담기는 빗물의 양을 변수에 저장\n",
    "#     total_height = 0\n",
    "\n",
    "#     # 리스트의 각 인덱스을 돌면서 해당 칸에 담기는 빗물의 양을 구한다\n",
    "#     # 0번 인덱스와 마지막 인덱스는 볼 필요 없다\n",
    "#     for i in range(1, len(buildings) - 1):\n",
    "#         # 현재 인덱스를 기준으로 양쪽에 가장 높은 건물의 위치를 구한다\n",
    "#         max_left = max(buildings[:i])\n",
    "#         max_right = max(buildings[i:])\n",
    "\n",
    "#         # 현재 인덱스에 빗물이 담길 수 있는 높이\n",
    "#         upper_bound = min(max_left, max_right)\n",
    "\n",
    "#         # 현재 인덱스에 담기는 빗물의 양을 계산\n",
    "#         # 만약 upper_bound가 현재 인덱스 건물보다 높지 않다면, 현재 인덱스에 담기는 빗물은 0\n",
    "#         total_height += max(0, upper_bound - buildings[i])\n",
    "\n",
    "#     return total_height\n",
    "\n",
    "\n",
    "# 테스트 코드\n",
    "print(trapping_rain([3, 0, 0, 2, 0, 4]))\n",
    "print(trapping_rain([0, 1, 0, 2, 1, 0, 1, 3, 2, 1, 2, 1]))"
   ]
  }
 ],
 "metadata": {
  "kernelspec": {
   "display_name": "Python 3",
   "language": "python",
   "name": "python3"
  },
  "language_info": {
   "codemirror_mode": {
    "name": "ipython",
    "version": 3
   },
   "file_extension": ".py",
   "mimetype": "text/x-python",
   "name": "python",
   "nbconvert_exporter": "python",
   "pygments_lexer": "ipython3",
   "version": "3.9.5"
  },
  "orig_nbformat": 4,
  "vscode": {
   "interpreter": {
    "hash": "9e99d8c8b602f870767ae4a80c156bd21a94de39c4f81fdcb8e6036dd632cd64"
   }
  }
 },
 "nbformat": 4,
 "nbformat_minor": 2
}
